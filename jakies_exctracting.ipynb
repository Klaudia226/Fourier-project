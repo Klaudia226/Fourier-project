{
 "cells": [
  {
   "cell_type": "markdown",
   "metadata": {},
   "source": [
    "ok, let's do some \"low pass filter\""
   ]
  },
  {
   "cell_type": "code",
   "execution_count": 53,
   "metadata": {},
   "outputs": [],
   "source": [
    "using WAV\n",
    "using Plots\n",
    "using FFTW\n",
    "using DSP"
   ]
  },
  {
   "cell_type": "code",
   "execution_count": 15,
   "metadata": {},
   "outputs": [
    {
     "ename": "LoadError",
     "evalue": "\u001b[91mMethodError: no method matching sin(::LinRange{Float64})\u001b[39m\n\u001b[91m\u001b[0mClosest candidates are:\u001b[39m\n\u001b[91m\u001b[0m  sin(\u001b[91m::BigFloat\u001b[39m) at mpfr.jl:727\u001b[39m\n\u001b[91m\u001b[0m  sin(\u001b[91m::Missing\u001b[39m) at math.jl:1197\u001b[39m\n\u001b[91m\u001b[0m  sin(\u001b[91m::Complex{Float16}\u001b[39m) at math.jl:1145\u001b[39m\n\u001b[91m\u001b[0m  ...\u001b[39m",
     "output_type": "error",
     "traceback": [
      "\u001b[91mMethodError: no method matching sin(::LinRange{Float64})\u001b[39m\n\u001b[91m\u001b[0mClosest candidates are:\u001b[39m\n\u001b[91m\u001b[0m  sin(\u001b[91m::BigFloat\u001b[39m) at mpfr.jl:727\u001b[39m\n\u001b[91m\u001b[0m  sin(\u001b[91m::Missing\u001b[39m) at math.jl:1197\u001b[39m\n\u001b[91m\u001b[0m  sin(\u001b[91m::Complex{Float16}\u001b[39m) at math.jl:1145\u001b[39m\n\u001b[91m\u001b[0m  ...\u001b[39m",
      "",
      "Stacktrace:",
      " [1] sin_noise(::LinRange{Float64}) at .\\In[15]:3",
      " [2] top-level scope at .\\timing.jl:174 [inlined]",
      " [3] top-level scope at .\\In[15]:0",
      " [4] include_string(::Function, ::Module, ::String, ::String) at .\\loading.jl:1091"
     ]
    }
   ],
   "source": [
    "#generate data\n",
    "x= LinRange(0,30,1000)\n",
    "sin_noise(arr)= sin(arr) + rand(length(arr))\n",
    "\n",
    "#create filter\n",
    "designmethod = Butterworth(5)\n",
    "ff = digitalfilter(Lowpass(0.02), designmethod)\n",
    "@time y1= filtfilt(ff,sin_noise(x))"
   ]
  },
  {
   "cell_type": "code",
   "execution_count": 16,
   "metadata": {},
   "outputs": [
    {
     "data": {
      "text/plain": [
       "5-element Array{Float64,1}:\n",
       "  1.0\n",
       " -2.8869891622875397\n",
       "  3.5085488762611963\n",
       " -2.0424679546381603\n",
       "  0.4827102856365605"
      ]
     },
     "execution_count": 16,
     "metadata": {},
     "output_type": "execute_result"
    }
   ],
   "source": [
    "responsetype = Lowpass(0.2)\n",
    "designmethod = Elliptic(4, 0.5, 30)\n",
    "tf = convert(PolynomialRatio, digitalfilter(responsetype, designmethod))\n",
    "numerator_coefs = coefb(tf)\n",
    "denominator_coefs = coefa(tf)"
   ]
  },
  {
   "cell_type": "code",
   "execution_count": null,
   "metadata": {},
   "outputs": [],
   "source": []
  },
  {
   "cell_type": "code",
   "execution_count": 40,
   "metadata": {},
   "outputs": [
    {
     "data": {
      "text/plain": [
       "150"
      ]
     },
     "execution_count": 40,
     "metadata": {},
     "output_type": "execute_result"
    }
   ],
   "source": [
    "order = 5\n",
    "sampling_freq = 30\n",
    "cutoff_freq = 2\n",
    "sampling_duration = 5 \n",
    "number_of_samples = sampling_freq * sampling_duration"
   ]
  },
  {
   "cell_type": "code",
   "execution_count": 54,
   "metadata": {},
   "outputs": [
    {
     "data": {
      "text/plain": [
       "([0.0 0.0; 0.0 0.0; … ; 0.0003967406231879635 0.0003967406231879635; 0.0006103701895199438 0.0006103701895199438], 22050.0f0, 0x0010, WAVChunk[WAVChunk(Symbol(\"fmt \"), UInt8[0x10, 0x00, 0x00, 0x00, 0x01, 0x00, 0x02, 0x00, 0x22, 0x56, 0x00, 0x00, 0x88, 0x58, 0x01, 0x00, 0x04, 0x00, 0x10, 0x00]), WAVChunk(:LIST, UInt8[0x49, 0x4e, 0x46, 0x4f, 0x49, 0x53, 0x46, 0x54, 0x0e, 0x00  …  0x35, 0x38, 0x2e, 0x34, 0x35, 0x2e, 0x31, 0x30, 0x30, 0x00])])"
      ]
     },
     "execution_count": 54,
     "metadata": {},
     "output_type": "execute_result"
    }
   ],
   "source": [
    "nat= wavread(\"mowa.wav\")"
   ]
  },
  {
   "cell_type": "code",
   "execution_count": 55,
   "metadata": {},
   "outputs": [
    {
     "data": {
      "text/plain": [
       "82556"
      ]
     },
     "execution_count": 55,
     "metadata": {},
     "output_type": "execute_result"
    }
   ],
   "source": [
    "nat_fft=fft(nat[1][:,1])\n",
    "N=length(nat_fft)"
   ]
  },
  {
   "cell_type": "code",
   "execution_count": 50,
   "metadata": {},
   "outputs": [],
   "source": [
    "using Plots"
   ]
  },
  {
   "cell_type": "code",
   "execution_count": null,
   "metadata": {},
   "outputs": [],
   "source": []
  }
 ],
 "metadata": {
  "kernelspec": {
   "display_name": "Julia 1.5.3",
   "language": "julia",
   "name": "julia-1.5"
  },
  "language_info": {
   "file_extension": ".jl",
   "mimetype": "application/julia",
   "name": "julia",
   "version": "1.5.3"
  }
 },
 "nbformat": 4,
 "nbformat_minor": 4
}
