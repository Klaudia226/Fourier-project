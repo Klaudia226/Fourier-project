{
 "cells": [
  {
   "cell_type": "markdown",
   "metadata": {},
   "source": [
    "ZMIANA GŁOŚNOŚCI"
   ]
  },
  {
   "cell_type": "code",
   "execution_count": 4,
   "metadata": {},
   "outputs": [],
   "source": [
    "using WAV\n",
    "using FFTW"
   ]
  },
  {
   "cell_type": "code",
   "execution_count": 5,
   "metadata": {},
   "outputs": [],
   "source": [
    "wavplay(\"440Hz.wav\")\n",
    "sound = wavread(\"440Hz.wav\") \n",
    "sound_fft = 0.1 .* fft(sound[1][:, 1])\n",
    "sound_ifft = real.(ifft(sound_fft))\n",
    "wavplay(sound_ifft, sound[2])\n",
    "wavplay(\"440Hz.wav\")"
   ]
  },
  {
   "cell_type": "code",
   "execution_count": null,
   "metadata": {},
   "outputs": [],
   "source": []
  }
 ],
 "metadata": {
  "kernelspec": {
   "display_name": "Julia 1.5.3",
   "language": "julia",
   "name": "julia-1.5"
  },
  "language_info": {
   "file_extension": ".jl",
   "mimetype": "application/julia",
   "name": "julia",
   "version": "1.5.3"
  }
 },
 "nbformat": 4,
 "nbformat_minor": 4
}
