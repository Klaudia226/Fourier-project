{
 "cells": [
  {
   "cell_type": "code",
   "execution_count": 1,
   "metadata": {},
   "outputs": [],
   "source": [
    "using WAV\n",
    "using Random\n",
    "using FFTW"
   ]
  },
  {
   "cell_type": "code",
   "execution_count": 184,
   "metadata": {},
   "outputs": [
    {
     "data": {
      "text/plain": [
       "fft_b (generic function with 1 method)"
      ]
     },
     "execution_count": 184,
     "metadata": {},
     "output_type": "execute_result"
    }
   ],
   "source": [
    "function fft_b(x)\n",
    "    N = length(x)\n",
    "    if log2(N) % 1 > 0\n",
    "        throw(ArgumentError(\"must be a power of 2\"))\n",
    "    end\n",
    "    N_min = min(N, 1)\n",
    "    \n",
    "    n = collect(0:(N_min-1))\n",
    "    M = exp.(-2π * im * n * n'/ N_min)\n",
    "    X = M * reshape(x, (:, N_min))'\n",
    "    while size(X)[1] < N\n",
    "        X_even = X[:, 1:Int(size(X)[2] / 2)]\n",
    "        X_odd = X[:, (Int(size(X)[2] / 2)+1):end]\n",
    "        t = exp.(-1*im * π * collect(0:(size(X)[1]-1))/size(X)[1])\n",
    "        terms = hcat(map(x->t, 1:size(X_odd)[2])...)\n",
    "        X = vcat(X_even + terms .* X_odd, X_even - terms .* X_odd)\n",
    "    end\n",
    "    return vec(X)\n",
    "end\n",
    "        \n",
    "        \n",
    "    "
   ]
  },
  {
   "cell_type": "code",
   "execution_count": 185,
   "metadata": {},
   "outputs": [
    {
     "name": "stdout",
     "output_type": "stream",
     "text": [
      "  0.055075 seconds (735 allocations: 40.484 KiB)\n"
     ]
    },
    {
     "data": {
      "text/plain": [
       "8-element Array{Complex{Float64},1}:\n",
       "                36.0 + 0.0im\n",
       "                -4.0 + 9.65685424949238im\n",
       "                -4.0 + 4.0im\n",
       "                -4.0 + 1.6568542494923797im\n",
       "                -4.0 + 0.0im\n",
       " -3.9999999999999996 - 1.6568542494923797im\n",
       " -3.9999999999999996 - 4.0im\n",
       " -3.9999999999999987 - 9.65685424949238im"
      ]
     },
     "execution_count": 185,
     "metadata": {},
     "output_type": "execute_result"
    }
   ],
   "source": [
    "@time new = fft_b([1,2,3,4, 5, 6, 7, 8])"
   ]
  },
  {
   "cell_type": "code",
   "execution_count": 186,
   "metadata": {},
   "outputs": [
    {
     "name": "stdout",
     "output_type": "stream",
     "text": [
      "  0.000083 seconds (36 allocations: 2.984 KiB)\n"
     ]
    },
    {
     "data": {
      "text/plain": [
       "8-element Array{Complex{Float64},1}:\n",
       " 36.0 + 0.0im\n",
       " -4.0 + 9.65685424949238im\n",
       " -4.0 + 4.0im\n",
       " -4.0 + 1.6568542494923806im\n",
       " -4.0 + 0.0im\n",
       " -4.0 - 1.6568542494923806im\n",
       " -4.0 - 4.0im\n",
       " -4.0 - 9.65685424949238im"
      ]
     },
     "execution_count": 186,
     "metadata": {},
     "output_type": "execute_result"
    }
   ],
   "source": [
    "@time old =fft([1,2,3,4, 5, 6, 7, 8])"
   ]
  },
  {
   "cell_type": "code",
   "execution_count": 187,
   "metadata": {},
   "outputs": [
    {
     "data": {
      "text/plain": [
       "true"
      ]
     },
     "execution_count": 187,
     "metadata": {},
     "output_type": "execute_result"
    }
   ],
   "source": [
    "isapprox(new, old)"
   ]
  },
  {
   "cell_type": "code",
   "execution_count": 188,
   "metadata": {},
   "outputs": [],
   "source": [
    "w = rand(16);"
   ]
  },
  {
   "cell_type": "code",
   "execution_count": 193,
   "metadata": {},
   "outputs": [
    {
     "name": "stdout",
     "output_type": "stream",
     "text": [
      "  0.000126 seconds (185 allocations: 14.281 KiB)\n"
     ]
    },
    {
     "data": {
      "text/plain": [
       "16-element Array{Complex{Float64},1}:\n",
       "      5.67007062927372 + 0.0im\n",
       "   -0.7613180247733727 - 1.9272603229745813im\n",
       "    0.7225606777460523 + 0.1909678952047974im\n",
       " 0.0064954194823636235 - 1.4228541890648465im\n",
       "   -0.5086083857694561 - 0.04555230839112401im\n",
       "   -0.4505390346312546 + 0.06572595212003618im\n",
       "   0.21257882807633693 - 0.23939679469784292im\n",
       "   -0.6778337618501359 + 0.7613226277852114im\n",
       "   0.07131089398635293 + 0.0im\n",
       "   -0.6778337618501357 - 0.7613226277852115im\n",
       "   0.21257882807633693 + 0.23939679469784292im\n",
       "  -0.45053903463125455 - 0.06572595212003607im\n",
       "   -0.5086083857694561 + 0.04555230839112401im\n",
       "  0.006495419482363152 + 1.422854189064847im\n",
       "    0.7225606777460523 - 0.1909678952047974im\n",
       "   -0.7613180247733732 + 1.927260322974581im"
      ]
     },
     "execution_count": 193,
     "metadata": {},
     "output_type": "execute_result"
    }
   ],
   "source": [
    "@time x = fft_b(w)"
   ]
  },
  {
   "cell_type": "code",
   "execution_count": 194,
   "metadata": {},
   "outputs": [
    {
     "name": "stdout",
     "output_type": "stream",
     "text": [
      "  0.000089 seconds (35 allocations: 3.094 KiB)\n"
     ]
    },
    {
     "data": {
      "text/plain": [
       "16-element Array{Complex{Float64},1}:\n",
       "     5.67007062927372 + 0.0im\n",
       "  -0.7613180247733731 - 1.9272603229745813im\n",
       "   0.7225606777460524 + 0.1909678952047974im\n",
       " 0.006495419482363346 - 1.422854189064847im\n",
       "  -0.5086083857694561 - 0.04555230839112401im\n",
       " -0.45053903463125455 + 0.06572595212003618im\n",
       "   0.2125788280763369 - 0.23939679469784292im\n",
       "  -0.6778337618501358 + 0.7613226277852116im\n",
       "  0.07131089398635293 + 0.0im\n",
       "  -0.6778337618501358 - 0.7613226277852116im\n",
       "   0.2125788280763369 + 0.23939679469784292im\n",
       " -0.45053903463125455 - 0.06572595212003618im\n",
       "  -0.5086083857694561 + 0.04555230839112401im\n",
       " 0.006495419482363346 + 1.422854189064847im\n",
       "   0.7225606777460524 - 0.1909678952047974im\n",
       "  -0.7613180247733731 + 1.9272603229745813im"
      ]
     },
     "execution_count": 194,
     "metadata": {},
     "output_type": "execute_result"
    }
   ],
   "source": [
    "@time y = fft(w)"
   ]
  },
  {
   "cell_type": "code",
   "execution_count": 191,
   "metadata": {},
   "outputs": [
    {
     "data": {
      "text/plain": [
       "true"
      ]
     },
     "execution_count": 191,
     "metadata": {},
     "output_type": "execute_result"
    }
   ],
   "source": [
    "isapprox(x, y)"
   ]
  },
  {
   "cell_type": "code",
   "execution_count": 192,
   "metadata": {},
   "outputs": [],
   "source": [
    "w2 = rand(1024^2);"
   ]
  },
  {
   "cell_type": "code",
   "execution_count": 201,
   "metadata": {},
   "outputs": [
    {
     "name": "stdout",
     "output_type": "stream",
     "text": [
      "  1.328822 seconds (1.28 k allocations: 1.508 GiB, 21.26% gc time)\n"
     ]
    }
   ],
   "source": [
    "@time x2 = fft_b(w2);"
   ]
  },
  {
   "cell_type": "code",
   "execution_count": 202,
   "metadata": {},
   "outputs": [
    {
     "name": "stdout",
     "output_type": "stream",
     "text": [
      "  0.095503 seconds (37 allocations: 32.003 MiB, 9.26% gc time)\n"
     ]
    }
   ],
   "source": [
    "@time y2 = fft(w2);"
   ]
  },
  {
   "cell_type": "code",
   "execution_count": 198,
   "metadata": {},
   "outputs": [
    {
     "data": {
      "text/plain": [
       "true"
      ]
     },
     "execution_count": 198,
     "metadata": {},
     "output_type": "execute_result"
    }
   ],
   "source": [
    "isapprox(x2, y2)"
   ]
  },
  {
   "cell_type": "code",
   "execution_count": null,
   "metadata": {},
   "outputs": [],
   "source": []
  }
 ],
 "metadata": {
  "kernelspec": {
   "display_name": "Julia 1.5.3",
   "language": "julia",
   "name": "julia-1.5"
  },
  "language_info": {
   "file_extension": ".jl",
   "mimetype": "application/julia",
   "name": "julia",
   "version": "1.5.3"
  }
 },
 "nbformat": 4,
 "nbformat_minor": 4
}
