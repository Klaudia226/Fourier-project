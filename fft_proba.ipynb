{
 "cells": [
  {
   "cell_type": "markdown",
   "metadata": {},
   "source": [
    "# Algorytm FFT"
   ]
  },
  {
   "cell_type": "code",
   "execution_count": 39,
   "metadata": {},
   "outputs": [],
   "source": [
    "using WAV\n",
    "using Random\n",
    "using FFTW"
   ]
  },
  {
   "cell_type": "code",
   "execution_count": 40,
   "metadata": {},
   "outputs": [
    {
     "data": {
      "text/plain": [
       "fft_b (generic function with 1 method)"
      ]
     },
     "execution_count": 40,
     "metadata": {},
     "output_type": "execute_result"
    }
   ],
   "source": [
    "function fft_b(x)\n",
    "    N = length(x)\n",
    "    if log2(N) % 1 > 0\n",
    "        throw(ArgumentError(\"must be a power of 2\"))\n",
    "    end\n",
    "    N_min = min(N, 1)\n",
    "    \n",
    "    n = collect(0:(N_min-1))\n",
    "    M = exp.(-2π * im * n * n'/ N_min)\n",
    "    X = M * reshape(x, (:, N_min))'\n",
    "    while size(X)[1] < N\n",
    "        X_even = X[:, 1:Int(size(X)[2] / 2)]\n",
    "        X_odd = X[:, (Int(size(X)[2] / 2)+1):end]\n",
    "        t = exp.(-1*im * π * collect(0:(size(X)[1]-1))/size(X)[1])\n",
    "        terms = hcat(map(x->t, 1:size(X_odd)[2])...)\n",
    "        X = vcat(X_even + terms .* X_odd, X_even - terms .* X_odd)\n",
    "    end\n",
    "    return vec(X)\n",
    "end\n",
    "        \n",
    "        \n",
    "    "
   ]
  },
  {
   "cell_type": "markdown",
   "metadata": {},
   "source": [
    "## Przykład 1"
   ]
  },
  {
   "cell_type": "code",
   "execution_count": 41,
   "metadata": {},
   "outputs": [
    {
     "name": "stdout",
     "output_type": "stream",
     "text": [
      "  0.044563 seconds (735 allocations: 40.484 KiB)\n"
     ]
    }
   ],
   "source": [
    "@time p1_n = fft_b([1,2,3,4, 5, 6, 7, 8]);"
   ]
  },
  {
   "cell_type": "code",
   "execution_count": 42,
   "metadata": {},
   "outputs": [
    {
     "name": "stdout",
     "output_type": "stream",
     "text": [
      "  0.000107 seconds (36 allocations: 2.984 KiB)\n"
     ]
    }
   ],
   "source": [
    "@time p1_o =fft([1,2,3,4, 5, 6, 7, 8]);"
   ]
  },
  {
   "cell_type": "code",
   "execution_count": 43,
   "metadata": {},
   "outputs": [
    {
     "data": {
      "text/plain": [
       "true"
      ]
     },
     "execution_count": 43,
     "metadata": {},
     "output_type": "execute_result"
    }
   ],
   "source": [
    "isapprox(p1_n, p1_o)"
   ]
  },
  {
   "cell_type": "markdown",
   "metadata": {},
   "source": [
    "## Przykład 2"
   ]
  },
  {
   "cell_type": "code",
   "execution_count": 44,
   "metadata": {},
   "outputs": [],
   "source": [
    "p2 = rand(1024);"
   ]
  },
  {
   "cell_type": "code",
   "execution_count": 45,
   "metadata": {},
   "outputs": [
    {
     "name": "stdout",
     "output_type": "stream",
     "text": [
      "  0.183617 seconds (153.60 k allocations: 8.690 MiB)\n"
     ]
    }
   ],
   "source": [
    "@time p2_n = fft_b(p2);"
   ]
  },
  {
   "cell_type": "code",
   "execution_count": 46,
   "metadata": {},
   "outputs": [
    {
     "name": "stdout",
     "output_type": "stream",
     "text": [
      "  0.000207 seconds (35 allocations: 34.688 KiB)\n"
     ]
    }
   ],
   "source": [
    "@time p2_o = fft(p2);"
   ]
  },
  {
   "cell_type": "code",
   "execution_count": 47,
   "metadata": {},
   "outputs": [
    {
     "data": {
      "text/plain": [
       "true"
      ]
     },
     "execution_count": 47,
     "metadata": {},
     "output_type": "execute_result"
    }
   ],
   "source": [
    "isapprox(p2_n, p2_o)"
   ]
  },
  {
   "cell_type": "markdown",
   "metadata": {},
   "source": [
    "## Przykład 3"
   ]
  },
  {
   "cell_type": "code",
   "execution_count": 48,
   "metadata": {},
   "outputs": [],
   "source": [
    "p3 = rand(1024^2);"
   ]
  },
  {
   "cell_type": "code",
   "execution_count": 49,
   "metadata": {},
   "outputs": [
    {
     "name": "stdout",
     "output_type": "stream",
     "text": [
      "  1.673212 seconds (1.28 k allocations: 1.508 GiB, 31.86% gc time)\n"
     ]
    }
   ],
   "source": [
    "@time p3_n = fft_b(p3);"
   ]
  },
  {
   "cell_type": "code",
   "execution_count": 50,
   "metadata": {},
   "outputs": [
    {
     "name": "stdout",
     "output_type": "stream",
     "text": [
      "  0.121848 seconds (37 allocations: 32.003 MiB, 16.15% gc time)\n"
     ]
    }
   ],
   "source": [
    "@time p3_o = fft(p3);"
   ]
  },
  {
   "cell_type": "code",
   "execution_count": 51,
   "metadata": {},
   "outputs": [
    {
     "data": {
      "text/plain": [
       "true"
      ]
     },
     "execution_count": 51,
     "metadata": {},
     "output_type": "execute_result"
    }
   ],
   "source": [
    "isapprox(p3_n, p3_o)"
   ]
  },
  {
   "cell_type": "markdown",
   "metadata": {},
   "source": [
    "## Przykład 4"
   ]
  },
  {
   "cell_type": "code",
   "execution_count": 52,
   "metadata": {},
   "outputs": [
    {
     "data": {
      "text/plain": [
       "([0.0 0.0; 0.0 0.0; … ; 0.0 0.0; 0.0 0.0], 48000.0f0, 0x0010, WAVChunk[WAVChunk(Symbol(\"fmt \"), UInt8[0x10, 0x00, 0x00, 0x00, 0x01, 0x00, 0x02, 0x00, 0x80, 0xbb, 0x00, 0x00, 0x00, 0xee, 0x02, 0x00, 0x04, 0x00, 0x10, 0x00]), WAVChunk(:LIST, UInt8[0x49, 0x4e, 0x46, 0x4f, 0x49, 0x41, 0x52, 0x54, 0x0f, 0x00  …  0x35, 0x38, 0x2e, 0x34, 0x35, 0x2e, 0x31, 0x30, 0x30, 0x00])])"
      ]
     },
     "execution_count": 52,
     "metadata": {},
     "output_type": "execute_result"
    }
   ],
   "source": [
    "bird = wavread(\"bird.wav\")"
   ]
  },
  {
   "cell_type": "code",
   "execution_count": 53,
   "metadata": {},
   "outputs": [],
   "source": [
    "wavplay(\"bird.wav\")"
   ]
  },
  {
   "cell_type": "code",
   "execution_count": 54,
   "metadata": {},
   "outputs": [],
   "source": [
    "sound = bird[1][:,1]\n",
    "wind = 1024\n",
    "len = length(sound)\n",
    "st = 300\n",
    "ile_sampli  = (len-wind) ÷ st\n",
    "slices = Array{Any}(undef,ile_sampli,wind)\n",
    "for i in 1:ile_sampli\n",
    "    slices[i, 1:wind] = sound[1+(i-1)*st : wind + (i-1)*st]\n",
    "end"
   ]
  },
  {
   "cell_type": "code",
   "execution_count": 57,
   "metadata": {},
   "outputs": [
    {
     "ename": "LoadError",
     "evalue": "\u001b[91mMethodError: no method matching plan_fft(::Array{Any,2}, ::UnitRange{Int64})\u001b[39m\n\u001b[91m\u001b[0mClosest candidates are:\u001b[39m\n\u001b[91m\u001b[0m  plan_fft(\u001b[91m::StridedArray{T, N}\u001b[39m, ::Any; flags, timelimit) where {T<:Union{Complex{Float32}, Complex{Float64}}, N} at C:\\Users\\THINK\\.julia\\packages\\FFTW\\G3lSO\\src\\fft.jl:681\u001b[39m\n\u001b[91m\u001b[0m  plan_fft(\u001b[91m::AbstractArray{var\"#s17\",N} where N where var\"#s17\"<:Real\u001b[39m, ::Any; kws...) at C:\\Users\\THINK\\.julia\\packages\\AbstractFFTs\\JebmH\\src\\definitions.jl:199\u001b[39m\n\u001b[91m\u001b[0m  plan_fft(\u001b[91m::AbstractArray{var\"#s26\",N} where N where var\"#s26\"<:(Complex{var\"#s27\"} where var\"#s27\"<:Union{Integer, Rational})\u001b[39m, ::Any; kws...) at C:\\Users\\THINK\\.julia\\packages\\AbstractFFTs\\JebmH\\src\\definitions.jl:201\u001b[39m\n\u001b[91m\u001b[0m  ...\u001b[39m",
     "output_type": "error",
     "traceback": [
      "\u001b[91mMethodError: no method matching plan_fft(::Array{Any,2}, ::UnitRange{Int64})\u001b[39m\n\u001b[91m\u001b[0mClosest candidates are:\u001b[39m\n\u001b[91m\u001b[0m  plan_fft(\u001b[91m::StridedArray{T, N}\u001b[39m, ::Any; flags, timelimit) where {T<:Union{Complex{Float32}, Complex{Float64}}, N} at C:\\Users\\THINK\\.julia\\packages\\FFTW\\G3lSO\\src\\fft.jl:681\u001b[39m\n\u001b[91m\u001b[0m  plan_fft(\u001b[91m::AbstractArray{var\"#s17\",N} where N where var\"#s17\"<:Real\u001b[39m, ::Any; kws...) at C:\\Users\\THINK\\.julia\\packages\\AbstractFFTs\\JebmH\\src\\definitions.jl:199\u001b[39m\n\u001b[91m\u001b[0m  plan_fft(\u001b[91m::AbstractArray{var\"#s26\",N} where N where var\"#s26\"<:(Complex{var\"#s27\"} where var\"#s27\"<:Union{Integer, Rational})\u001b[39m, ::Any; kws...) at C:\\Users\\THINK\\.julia\\packages\\AbstractFFTs\\JebmH\\src\\definitions.jl:201\u001b[39m\n\u001b[91m\u001b[0m  ...\u001b[39m",
      "",
      "Stacktrace:",
      " [1] plan_fft(::Array{Any,2}; kws::Base.Iterators.Pairs{Union{},Union{},Tuple{},NamedTuple{(),Tuple{}}}) at C:\\Users\\THINK\\.julia\\packages\\AbstractFFTs\\JebmH\\src\\definitions.jl:52",
      " [2] plan_fft(::Array{Any,2}) at C:\\Users\\THINK\\.julia\\packages\\AbstractFFTs\\JebmH\\src\\definitions.jl:52",
      " [3] fft(::Array{Any,2}) at C:\\Users\\THINK\\.julia\\packages\\AbstractFFTs\\JebmH\\src\\definitions.jl:50",
      " [4] top-level scope at In[57]:1",
      " [5] include_string(::Function, ::Module, ::String, ::String) at .\\loading.jl:1091"
     ]
    }
   ],
   "source": [
    "fft(slices)"
   ]
  },
  {
   "cell_type": "markdown",
   "metadata": {},
   "source": [
    "## Próba IFFT"
   ]
  },
  {
   "cell_type": "code",
   "execution_count": 25,
   "metadata": {},
   "outputs": [
    {
     "data": {
      "text/plain": [
       "ifft_b (generic function with 1 method)"
      ]
     },
     "execution_count": 25,
     "metadata": {},
     "output_type": "execute_result"
    }
   ],
   "source": [
    "function ifft_b(x)\n",
    "    N = length(x)\n",
    "    if log2(N) % 1 > 0\n",
    "        throw(ArgumentError(\"must be a power of 2\"))\n",
    "    end\n",
    "    N_min = min(N, 1)\n",
    "    \n",
    "    n = collect(0:(N_min-1))\n",
    "    M = exp.(2π * im * n * n'/ N_min)\n",
    "    X = (1/N) * M * reshape(x, (:, N_min))'\n",
    "    while size(X)[1] < N\n",
    "        X_even = X[:, 1:Int(size(X)[2] / 2)]\n",
    "        X_odd = X[:, (Int(size(X)[2] / 2)+1):end]\n",
    "        t = exp.(2*im * π * collect(0:(size(X)[1]-1))/size(X)[1])\n",
    "        terms = hcat(map(x->t, 1:size(X_odd)[2])...)\n",
    "        X = vcat(X_even + terms .* X_odd, X_even - terms .* X_odd)\n",
    "    end\n",
    "    return vec(X)\n",
    "end"
   ]
  },
  {
   "cell_type": "code",
   "execution_count": null,
   "metadata": {},
   "outputs": [],
   "source": [
    "a = fft(rand(8))"
   ]
  },
  {
   "cell_type": "code",
   "execution_count": null,
   "metadata": {},
   "outputs": [],
   "source": [
    "b = ifft(a)"
   ]
  },
  {
   "cell_type": "code",
   "execution_count": null,
   "metadata": {},
   "outputs": [],
   "source": []
  }
 ],
 "metadata": {
  "kernelspec": {
   "display_name": "Julia 1.5.3",
   "language": "julia",
   "name": "julia-1.5"
  },
  "language_info": {
   "file_extension": ".jl",
   "mimetype": "application/julia",
   "name": "julia",
   "version": "1.5.3"
  }
 },
 "nbformat": 4,
 "nbformat_minor": 4
}
