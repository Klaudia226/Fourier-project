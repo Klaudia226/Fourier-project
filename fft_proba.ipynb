{
 "cells": [
  {
   "cell_type": "code",
   "execution_count": null,
   "metadata": {},
   "outputs": [],
   "source": [
    "using WAV\n",
    "using Random\n",
    "using FFTW"
   ]
  },
  {
   "cell_type": "code",
   "execution_count": null,
   "metadata": {},
   "outputs": [],
   "source": [
    "function fft_b(x)\n",
    "    N = length(x)\n",
    "    if log2(N) % 1 > 0\n",
    "        throw(ArgumentError(\"must be a power of 2\"))\n",
    "    end\n",
    "    N_min = min(N, 2)\n",
    "    \n",
    "    n = collect(0:(N_min-1))\n",
    "    M = exp.(-2π * im * n * n'/ N_min)\n",
    "    X = M * reshape(x, (:, N_min))'\n",
    "    while size(X)[1] < N\n",
    "        X_even = X[:, 1:Int(size(X)[2] / 2)]\n",
    "        X_odd = X[:, (Int(size(X)[2] / 2)+1):end]\n",
    "        t = exp.(-1*im * π * collect(0:(size(X)[1]-1))/size(X)[1])\n",
    "        terms = [t t]\n",
    "        X = vcat(X_even + terms .* X_odd, X_even - terms .* X_odd)\n",
    "        println(X)\n",
    "    end\n",
    "    return X\n",
    "end\n",
    "        \n",
    "        \n",
    "    "
   ]
  },
  {
   "cell_type": "code",
   "execution_count": null,
   "metadata": {},
   "outputs": [],
   "source": [
    "fft_b([1,2,3,4, 5, 6, 7, 8])"
   ]
  },
  {
   "cell_type": "code",
   "execution_count": null,
   "metadata": {},
   "outputs": [],
   "source": []
  }
 ],
 "metadata": {
  "kernelspec": {
   "display_name": "Julia 1.5.3",
   "language": "julia",
   "name": "julia-1.5"
  },
  "language_info": {
   "file_extension": ".jl",
   "mimetype": "application/julia",
   "name": "julia",
   "version": "1.5.3"
  }
 },
 "nbformat": 4,
 "nbformat_minor": 4
}
