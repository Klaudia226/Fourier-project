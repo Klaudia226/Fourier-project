{
 "cells": [
  {
   "cell_type": "markdown",
   "metadata": {},
   "source": [
    "# Algorytm FFT"
   ]
  },
  {
   "cell_type": "code",
   "execution_count": 2,
   "metadata": {},
   "outputs": [],
   "source": [
    "using WAV\n",
    "using Random\n",
    "using FFTW"
   ]
  },
  {
   "cell_type": "code",
   "execution_count": 3,
   "metadata": {},
   "outputs": [
    {
     "data": {
      "text/plain": [
       "Main.NaszModul"
      ]
     },
     "execution_count": 3,
     "metadata": {},
     "output_type": "execute_result"
    }
   ],
   "source": [
    "include(\"naszmodul.jl\")"
   ]
  },
  {
   "cell_type": "code",
   "execution_count": 4,
   "metadata": {},
   "outputs": [
    {
     "data": {
      "text/plain": [
       "fft_b (generic function with 1 method)"
      ]
     },
     "execution_count": 4,
     "metadata": {},
     "output_type": "execute_result"
    }
   ],
   "source": [
    "function fft_b(x)\n",
    "    N = length(x)\n",
    "    if log2(N) % 1 > 0\n",
    "        throw(ArgumentError(\"must be a power of 2\"))\n",
    "    end\n",
    "    N_min = min(N, 1)\n",
    "    \n",
    "    n = collect(0:(N_min-1))\n",
    "    M = exp.(-2π * im * n * n'/ N_min)\n",
    "    X = M * reshape(x, (:, N_min))'\n",
    "    while size(X)[1] < N\n",
    "        X_even = X[:, 1:Int(size(X)[2] / 2)]\n",
    "        X_odd = X[:, (Int(size(X)[2] / 2)+1):end]\n",
    "        t = exp.(-1*im * π * collect(0:(size(X)[1]-1))/size(X)[1])\n",
    "        terms = hcat(map(x->t, 1:size(X_odd)[2])...)\n",
    "        X = vcat(X_even + terms .* X_odd, X_even - terms .* X_odd)\n",
    "    end\n",
    "    return vec(X)\n",
    "end\n",
    "        \n",
    "        \n",
    "    "
   ]
  },
  {
   "cell_type": "code",
   "execution_count": 219,
   "metadata": {},
   "outputs": [
    {
     "data": {
      "text/plain": [
       "fft_b2 (generic function with 1 method)"
      ]
     },
     "execution_count": 219,
     "metadata": {},
     "output_type": "execute_result"
    }
   ],
   "source": [
    "function fft_b2(x)\n",
    "    N = length(x)\n",
    "    if log2(N) % 1 > 0\n",
    "        throw(ArgumentError(\"must be a power of 2\"))\n",
    "    end\n",
    "    N_min = min(N, 1)\n",
    "    \n",
    "    n = collect(0:(N_min-1))\n",
    "    M = cis.(-2π * n * n'/ N_min)\n",
    "    X = M * reshape(x, (:, N_min))'\n",
    "    while size(X)[1] < N\n",
    "        X_even = X[:, 1:Int(size(X)[2] / 2)]\n",
    "        X_odd = X[:, (Int(size(X)[2] / 2)+1):end]\n",
    "        terms = cis.(-1 * π * collect(0:(size(X)[1]-1))/size(X)[1])\n",
    "        X = [X_even .+ terms .* X_odd; X_even .- terms .* X_odd]\n",
    "    end\n",
    "    return vec(X)\n",
    "end"
   ]
  },
  {
   "cell_type": "markdown",
   "metadata": {},
   "source": [
    "## Przykład 1"
   ]
  },
  {
   "cell_type": "code",
   "execution_count": 220,
   "metadata": {},
   "outputs": [
    {
     "name": "stdout",
     "output_type": "stream",
     "text": [
      "  0.000115 seconds (145 allocations: 9.078 KiB)\n"
     ]
    }
   ],
   "source": [
    "@time p1_n = fft_b([1,2,3,4, 5, 6, 7, 8]);"
   ]
  },
  {
   "cell_type": "code",
   "execution_count": 221,
   "metadata": {},
   "outputs": [
    {
     "name": "stdout",
     "output_type": "stream",
     "text": [
      "  0.000081 seconds (36 allocations: 2.984 KiB)\n"
     ]
    }
   ],
   "source": [
    "@time p1_o =fft([1,2,3,4, 5, 6, 7, 8]);"
   ]
  },
  {
   "cell_type": "code",
   "execution_count": 222,
   "metadata": {},
   "outputs": [
    {
     "name": "stdout",
     "output_type": "stream",
     "text": [
      "  0.000006 seconds (3 allocations: 560 bytes)\n"
     ]
    }
   ],
   "source": [
    "@time p1_d = NaszModul.dft([1,2,3,4, 5, 6, 7, 8]);"
   ]
  },
  {
   "cell_type": "code",
   "execution_count": 223,
   "metadata": {},
   "outputs": [
    {
     "name": "stdout",
     "output_type": "stream",
     "text": [
      "  0.000027 seconds (42 allocations: 4.734 KiB)\n"
     ]
    }
   ],
   "source": [
    "@time p1_ne = fft_b2([1,2,3,4, 5, 6, 7, 8]);"
   ]
  },
  {
   "cell_type": "code",
   "execution_count": 224,
   "metadata": {},
   "outputs": [
    {
     "data": {
      "text/plain": [
       "true"
      ]
     },
     "execution_count": 224,
     "metadata": {},
     "output_type": "execute_result"
    }
   ],
   "source": [
    "isapprox(p1_ne, p1_o)"
   ]
  },
  {
   "cell_type": "markdown",
   "metadata": {},
   "source": [
    "### <span style='color:red'> Klasyczne dft będzie działać zdecydowanie dla długości do 32  </span>"
   ]
  },
  {
   "cell_type": "markdown",
   "metadata": {},
   "source": [
    "## Przykład 2"
   ]
  },
  {
   "cell_type": "code",
   "execution_count": 242,
   "metadata": {},
   "outputs": [],
   "source": [
    "p2 = rand(1024);"
   ]
  },
  {
   "cell_type": "code",
   "execution_count": 243,
   "metadata": {},
   "outputs": [
    {
     "name": "stdout",
     "output_type": "stream",
     "text": [
      "  0.001139 seconds (482 allocations: 842.078 KiB)\n"
     ]
    }
   ],
   "source": [
    "@time p2_n = fft_b(p2);"
   ]
  },
  {
   "cell_type": "code",
   "execution_count": 244,
   "metadata": {},
   "outputs": [
    {
     "name": "stdout",
     "output_type": "stream",
     "text": [
      "  0.000470 seconds (100 allocations: 546.922 KiB)\n"
     ]
    }
   ],
   "source": [
    "@time p2_ne = fft_b2(p2);"
   ]
  },
  {
   "cell_type": "code",
   "execution_count": 136,
   "metadata": {},
   "outputs": [
    {
     "name": "stdout",
     "output_type": "stream",
     "text": [
      "  0.000136 seconds (35 allocations: 34.688 KiB)\n"
     ]
    }
   ],
   "source": [
    "@time p2_o = fft(p2);"
   ]
  },
  {
   "cell_type": "code",
   "execution_count": 137,
   "metadata": {},
   "outputs": [
    {
     "name": "stdout",
     "output_type": "stream",
     "text": [
      "  0.006530 seconds (2 allocations: 32.250 KiB)\n"
     ]
    }
   ],
   "source": [
    "@time p2_d = NaszModul.dft(p2);"
   ]
  },
  {
   "cell_type": "code",
   "execution_count": 138,
   "metadata": {},
   "outputs": [
    {
     "data": {
      "text/plain": [
       "true"
      ]
     },
     "execution_count": 138,
     "metadata": {},
     "output_type": "execute_result"
    }
   ],
   "source": [
    "isapprox(p2_n, p2_ne)"
   ]
  },
  {
   "cell_type": "markdown",
   "metadata": {},
   "source": [
    "## Przykład 3"
   ]
  },
  {
   "cell_type": "code",
   "execution_count": 266,
   "metadata": {},
   "outputs": [],
   "source": [
    "p3 = rand(1024^2);"
   ]
  },
  {
   "cell_type": "code",
   "execution_count": 267,
   "metadata": {},
   "outputs": [
    {
     "name": "stdout",
     "output_type": "stream",
     "text": [
      "  1.287454 seconds (1.28 k allocations: 1.508 GiB, 29.17% gc time)\n"
     ]
    }
   ],
   "source": [
    "@time p3_n = fft_b(p3);"
   ]
  },
  {
   "cell_type": "code",
   "execution_count": 268,
   "metadata": {},
   "outputs": [
    {
     "name": "stdout",
     "output_type": "stream",
     "text": [
      "  0.746053 seconds (324 allocations: 1016.016 MiB, 19.80% gc time)\n"
     ]
    }
   ],
   "source": [
    "@time p3_ne = fft_b2(p3);"
   ]
  },
  {
   "cell_type": "code",
   "execution_count": 145,
   "metadata": {},
   "outputs": [
    {
     "name": "stdout",
     "output_type": "stream",
     "text": [
      "  0.101338 seconds (37 allocations: 32.003 MiB, 19.24% gc time)\n"
     ]
    }
   ],
   "source": [
    "@time p3_o = fft(p3);"
   ]
  },
  {
   "cell_type": "markdown",
   "metadata": {},
   "source": [
    "Dla naszego klasycznego dft końca możemy się nawet nie doczekać"
   ]
  },
  {
   "cell_type": "code",
   "execution_count": 24,
   "metadata": {},
   "outputs": [],
   "source": [
    "#@time p3_d = NaszModul.dft(p3)"
   ]
  },
  {
   "cell_type": "code",
   "execution_count": 256,
   "metadata": {},
   "outputs": [
    {
     "data": {
      "text/plain": [
       "true"
      ]
     },
     "execution_count": 256,
     "metadata": {},
     "output_type": "execute_result"
    }
   ],
   "source": [
    "isapprox(p3_n, p3_ne)"
   ]
  },
  {
   "cell_type": "markdown",
   "metadata": {},
   "source": [
    "## Przykład 4"
   ]
  },
  {
   "cell_type": "code",
   "execution_count": 260,
   "metadata": {},
   "outputs": [],
   "source": [
    "p4 = rand(2^18); #262144"
   ]
  },
  {
   "cell_type": "code",
   "execution_count": 261,
   "metadata": {},
   "outputs": [
    {
     "name": "stdout",
     "output_type": "stream",
     "text": [
      "  0.261783 seconds (1.13 k allocations: 350.033 MiB, 20.20% gc time)\n"
     ]
    }
   ],
   "source": [
    "@time p4_n = fft_b(p4);"
   ]
  },
  {
   "cell_type": "code",
   "execution_count": 262,
   "metadata": {},
   "outputs": [
    {
     "name": "stdout",
     "output_type": "stream",
     "text": [
      "  0.246188 seconds (1.13 k allocations: 350.033 MiB, 16.97% gc time)\n"
     ]
    }
   ],
   "source": [
    "@time p4_ne = fft_b(p4);"
   ]
  },
  {
   "cell_type": "code",
   "execution_count": 264,
   "metadata": {},
   "outputs": [
    {
     "name": "stdout",
     "output_type": "stream",
     "text": [
      "  0.020050 seconds (37 allocations: 8.003 MiB)\n"
     ]
    }
   ],
   "source": [
    "@time p4_o = fft(p4);"
   ]
  },
  {
   "cell_type": "code",
   "execution_count": null,
   "metadata": {},
   "outputs": [],
   "source": [
    "#@time p4_d = NaszModul.dft(p4);"
   ]
  },
  {
   "cell_type": "markdown",
   "metadata": {},
   "source": [
    "W tym wypadku również klasyczna wersja nie wyrabia za dobrze"
   ]
  },
  {
   "cell_type": "code",
   "execution_count": 265,
   "metadata": {},
   "outputs": [
    {
     "data": {
      "text/plain": [
       "true"
      ]
     },
     "execution_count": 265,
     "metadata": {},
     "output_type": "execute_result"
    }
   ],
   "source": [
    "isapprox(p4_n, p4_o)"
   ]
  },
  {
   "cell_type": "markdown",
   "metadata": {},
   "source": [
    "## Przykład kolejny (Na razie niewypał)"
   ]
  },
  {
   "cell_type": "markdown",
   "metadata": {},
   "source": [
    "### <span style='color:green'>Koncepcja dla długości nie będących potęgami liczby 2 - samplowanie lub dopełnianie zerami</span>"
   ]
  },
  {
   "cell_type": "code",
   "execution_count": 52,
   "metadata": {},
   "outputs": [
    {
     "data": {
      "text/plain": [
       "([0.0 0.0; 0.0 0.0; … ; 0.0 0.0; 0.0 0.0], 48000.0f0, 0x0010, WAVChunk[WAVChunk(Symbol(\"fmt \"), UInt8[0x10, 0x00, 0x00, 0x00, 0x01, 0x00, 0x02, 0x00, 0x80, 0xbb, 0x00, 0x00, 0x00, 0xee, 0x02, 0x00, 0x04, 0x00, 0x10, 0x00]), WAVChunk(:LIST, UInt8[0x49, 0x4e, 0x46, 0x4f, 0x49, 0x41, 0x52, 0x54, 0x0f, 0x00  …  0x35, 0x38, 0x2e, 0x34, 0x35, 0x2e, 0x31, 0x30, 0x30, 0x00])])"
      ]
     },
     "execution_count": 52,
     "metadata": {},
     "output_type": "execute_result"
    }
   ],
   "source": [
    "bird = wavread(\"bird.wav\")"
   ]
  },
  {
   "cell_type": "code",
   "execution_count": 53,
   "metadata": {},
   "outputs": [],
   "source": [
    "wavplay(\"bird.wav\")"
   ]
  },
  {
   "cell_type": "code",
   "execution_count": 54,
   "metadata": {},
   "outputs": [],
   "source": [
    "sound = bird[1][:,1]\n",
    "wind = 1024\n",
    "len = length(sound)\n",
    "st = 300\n",
    "ile_sampli  = (len-wind) ÷ st\n",
    "slices = Array{Any}(undef,ile_sampli,wind)\n",
    "for i in 1:ile_sampli\n",
    "    slices[i, 1:wind] = sound[1+(i-1)*st : wind + (i-1)*st]\n",
    "end"
   ]
  },
  {
   "cell_type": "code",
   "execution_count": 57,
   "metadata": {},
   "outputs": [
    {
     "ename": "LoadError",
     "evalue": "\u001b[91mMethodError: no method matching plan_fft(::Array{Any,2}, ::UnitRange{Int64})\u001b[39m\n\u001b[91m\u001b[0mClosest candidates are:\u001b[39m\n\u001b[91m\u001b[0m  plan_fft(\u001b[91m::StridedArray{T, N}\u001b[39m, ::Any; flags, timelimit) where {T<:Union{Complex{Float32}, Complex{Float64}}, N} at C:\\Users\\THINK\\.julia\\packages\\FFTW\\G3lSO\\src\\fft.jl:681\u001b[39m\n\u001b[91m\u001b[0m  plan_fft(\u001b[91m::AbstractArray{var\"#s17\",N} where N where var\"#s17\"<:Real\u001b[39m, ::Any; kws...) at C:\\Users\\THINK\\.julia\\packages\\AbstractFFTs\\JebmH\\src\\definitions.jl:199\u001b[39m\n\u001b[91m\u001b[0m  plan_fft(\u001b[91m::AbstractArray{var\"#s26\",N} where N where var\"#s26\"<:(Complex{var\"#s27\"} where var\"#s27\"<:Union{Integer, Rational})\u001b[39m, ::Any; kws...) at C:\\Users\\THINK\\.julia\\packages\\AbstractFFTs\\JebmH\\src\\definitions.jl:201\u001b[39m\n\u001b[91m\u001b[0m  ...\u001b[39m",
     "output_type": "error",
     "traceback": [
      "\u001b[91mMethodError: no method matching plan_fft(::Array{Any,2}, ::UnitRange{Int64})\u001b[39m\n\u001b[91m\u001b[0mClosest candidates are:\u001b[39m\n\u001b[91m\u001b[0m  plan_fft(\u001b[91m::StridedArray{T, N}\u001b[39m, ::Any; flags, timelimit) where {T<:Union{Complex{Float32}, Complex{Float64}}, N} at C:\\Users\\THINK\\.julia\\packages\\FFTW\\G3lSO\\src\\fft.jl:681\u001b[39m\n\u001b[91m\u001b[0m  plan_fft(\u001b[91m::AbstractArray{var\"#s17\",N} where N where var\"#s17\"<:Real\u001b[39m, ::Any; kws...) at C:\\Users\\THINK\\.julia\\packages\\AbstractFFTs\\JebmH\\src\\definitions.jl:199\u001b[39m\n\u001b[91m\u001b[0m  plan_fft(\u001b[91m::AbstractArray{var\"#s26\",N} where N where var\"#s26\"<:(Complex{var\"#s27\"} where var\"#s27\"<:Union{Integer, Rational})\u001b[39m, ::Any; kws...) at C:\\Users\\THINK\\.julia\\packages\\AbstractFFTs\\JebmH\\src\\definitions.jl:201\u001b[39m\n\u001b[91m\u001b[0m  ...\u001b[39m",
      "",
      "Stacktrace:",
      " [1] plan_fft(::Array{Any,2}; kws::Base.Iterators.Pairs{Union{},Union{},Tuple{},NamedTuple{(),Tuple{}}}) at C:\\Users\\THINK\\.julia\\packages\\AbstractFFTs\\JebmH\\src\\definitions.jl:52",
      " [2] plan_fft(::Array{Any,2}) at C:\\Users\\THINK\\.julia\\packages\\AbstractFFTs\\JebmH\\src\\definitions.jl:52",
      " [3] fft(::Array{Any,2}) at C:\\Users\\THINK\\.julia\\packages\\AbstractFFTs\\JebmH\\src\\definitions.jl:50",
      " [4] top-level scope at In[57]:1",
      " [5] include_string(::Function, ::Module, ::String, ::String) at .\\loading.jl:1091"
     ]
    }
   ],
   "source": [
    "fft(slices)"
   ]
  },
  {
   "cell_type": "markdown",
   "metadata": {},
   "source": [
    "## Algorytm IFFT"
   ]
  },
  {
   "cell_type": "code",
   "execution_count": 31,
   "metadata": {},
   "outputs": [
    {
     "data": {
      "text/plain": [
       "ifft_b (generic function with 1 method)"
      ]
     },
     "execution_count": 31,
     "metadata": {},
     "output_type": "execute_result"
    }
   ],
   "source": [
    "function ifft_b(x)\n",
    "    N = length(x)\n",
    "    if log2(N) % 1 > 0\n",
    "        throw(ArgumentError(\"must be a power of 2\"))\n",
    "    end\n",
    "    N_min = min(N, 1)\n",
    "    \n",
    "    n = collect(0:(N_min-1))\n",
    "    M = exp.(2π * im * n * n'/ N_min)\n",
    "    X = M * reshape(x, (:, N_min))'\n",
    "    while size(X)[1] < N\n",
    "        X_even = X[:, 1:Int(size(X)[2] / 2)]\n",
    "        X_odd = X[:, (Int(size(X)[2] / 2)+1):end]\n",
    "        t = exp.(im * π * collect(0:(size(X)[1]-1))/size(X)[1])\n",
    "        terms = hcat(map(x->t, 1:size(X_odd)[2])...) #tu chyba coś się pusje\n",
    "        X = vcat(X_even + terms .* X_odd, X_even - terms .* X_odd)#albo tu\n",
    "    end\n",
    "    return (1/N).*[X[1]; reverse(X[2:end])]\n",
    "end"
   ]
  },
  {
   "cell_type": "markdown",
   "metadata": {},
   "source": [
    "## Przykład 5"
   ]
  },
  {
   "cell_type": "code",
   "execution_count": 32,
   "metadata": {},
   "outputs": [],
   "source": [
    "p5 = fft(rand(16));"
   ]
  },
  {
   "cell_type": "code",
   "execution_count": 38,
   "metadata": {},
   "outputs": [
    {
     "name": "stdout",
     "output_type": "stream",
     "text": [
      "  0.000063 seconds (40 allocations: 3.141 KiB)\n"
     ]
    }
   ],
   "source": [
    "@time p5_o = ifft(p5);"
   ]
  },
  {
   "cell_type": "code",
   "execution_count": 39,
   "metadata": {},
   "outputs": [
    {
     "name": "stdout",
     "output_type": "stream",
     "text": [
      "  0.000132 seconds (208 allocations: 16.297 KiB)\n"
     ]
    }
   ],
   "source": [
    "@time p5_n = ifft_b(p5);"
   ]
  },
  {
   "cell_type": "code",
   "execution_count": 40,
   "metadata": {},
   "outputs": [
    {
     "name": "stdout",
     "output_type": "stream",
     "text": [
      "  0.000026 seconds (2 allocations: 672 bytes)\n"
     ]
    }
   ],
   "source": [
    "@time p5_d = NaszModul.idft(p5);"
   ]
  },
  {
   "cell_type": "code",
   "execution_count": 41,
   "metadata": {},
   "outputs": [
    {
     "data": {
      "text/plain": [
       "true"
      ]
     },
     "execution_count": 41,
     "metadata": {},
     "output_type": "execute_result"
    }
   ],
   "source": [
    "isapprox(p5_o, p5_n)"
   ]
  },
  {
   "cell_type": "markdown",
   "metadata": {},
   "source": [
    "#### <span style='color:red'> Tak jak w przypadku fft, dla małych długości klasyczna wersja idft będzie szybsza.</span>"
   ]
  },
  {
   "cell_type": "markdown",
   "metadata": {},
   "source": [
    "## Przykład 6"
   ]
  },
  {
   "cell_type": "code",
   "execution_count": 42,
   "metadata": {},
   "outputs": [],
   "source": [
    "p6 = fft(rand(1024^2));"
   ]
  },
  {
   "cell_type": "code",
   "execution_count": 43,
   "metadata": {},
   "outputs": [
    {
     "name": "stdout",
     "output_type": "stream",
     "text": [
      "  0.094419 seconds (41 allocations: 16.003 MiB, 21.31% gc time)\n"
     ]
    }
   ],
   "source": [
    "@time p5_o = ifft(p6);"
   ]
  },
  {
   "cell_type": "code",
   "execution_count": 44,
   "metadata": {},
   "outputs": [
    {
     "name": "stdout",
     "output_type": "stream",
     "text": [
      "  1.480566 seconds (1.31 k allocations: 1.570 GiB, 15.73% gc time)\n"
     ]
    }
   ],
   "source": [
    "@time p5_n = ifft_b(p6);"
   ]
  },
  {
   "cell_type": "markdown",
   "metadata": {},
   "source": [
    "Również nasz idft będzie miało duży problem"
   ]
  },
  {
   "cell_type": "code",
   "execution_count": null,
   "metadata": {},
   "outputs": [],
   "source": [
    "#@time p5_d = NaszModul.idft(p6);"
   ]
  },
  {
   "cell_type": "code",
   "execution_count": 45,
   "metadata": {},
   "outputs": [
    {
     "data": {
      "text/plain": [
       "true"
      ]
     },
     "execution_count": 45,
     "metadata": {},
     "output_type": "execute_result"
    }
   ],
   "source": [
    "isapprox(p5_o, p5_n)"
   ]
  },
  {
   "cell_type": "markdown",
   "metadata": {},
   "source": [
    "## Przykład 7"
   ]
  },
  {
   "cell_type": "code",
   "execution_count": 46,
   "metadata": {},
   "outputs": [],
   "source": [
    "p7 = fft(rand(2^18)); #ta sama liczba co w przykładzie 4"
   ]
  },
  {
   "cell_type": "code",
   "execution_count": 47,
   "metadata": {},
   "outputs": [
    {
     "name": "stdout",
     "output_type": "stream",
     "text": [
      "  0.009599 seconds (41 allocations: 4.003 MiB)\n"
     ]
    }
   ],
   "source": [
    "@time p7_o = ifft(p7);"
   ]
  },
  {
   "cell_type": "code",
   "execution_count": 48,
   "metadata": {},
   "outputs": [
    {
     "name": "stdout",
     "output_type": "stream",
     "text": [
      "  0.533640 seconds (1.16 k allocations: 366.034 MiB, 39.69% gc time)\n"
     ]
    }
   ],
   "source": [
    "@time p7_n = ifft_b(p7);"
   ]
  },
  {
   "cell_type": "markdown",
   "metadata": {},
   "source": [
    "Tak samo jak wcześniej - idft nie będzie wyrabiał dla tak dużej liczby"
   ]
  },
  {
   "cell_type": "code",
   "execution_count": null,
   "metadata": {},
   "outputs": [],
   "source": [
    "@time p7_d = NaszModul.idft(p7);"
   ]
  },
  {
   "cell_type": "code",
   "execution_count": null,
   "metadata": {},
   "outputs": [],
   "source": [
    "isapprox(p7_o, p7_n)"
   ]
  }
 ],
 "metadata": {
  "kernelspec": {
   "display_name": "Julia 1.5.3",
   "language": "julia",
   "name": "julia-1.5"
  },
  "language_info": {
   "file_extension": ".jl",
   "mimetype": "application/julia",
   "name": "julia",
   "version": "1.5.3"
  }
 },
 "nbformat": 4,
 "nbformat_minor": 4
}
