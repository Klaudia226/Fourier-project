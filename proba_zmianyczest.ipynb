{
 "cells": [
  {
   "cell_type": "code",
   "execution_count": 76,
   "metadata": {},
   "outputs": [],
   "source": [
    "using WAV\r\n",
    "using FFTW\r\n",
    "using Plots\r\n",
    "import DSP: unwrap"
   ]
  },
  {
   "cell_type": "code",
   "execution_count": null,
   "metadata": {},
   "outputs": [],
   "source": [
    "N       = length(ya_fft);               % number of points in the fft\r\n",
    "mag1    = mag(2:N/2+1);                 % get positive freq. magnitude\r\n",
    "phase1  = phase(2:N/2+1);               % get positive freq. phases\r\n",
    "mag2    = mag(N/2+2:end);               % get negative freq. magnitude\r\n",
    "phase2  = phase(N/2+2:end);             % get negative freq. phases\r\n",
    "\r\n",
    "% pad the positive frequency signals with 'shift' zeros on the left\r\n",
    "% remove 'shift' components on the right\r\n",
    "mag1s   = [zeros(1,shift) , mag1(1:end-shift)];\r\n",
    "phase1s = [zeros(1,shift) , phase1(1:end-shift)];\r\n",
    "\r\n",
    "% pad the negative frequency signals with 'shift' zeros on the right\r\n",
    "% remove 'shift' components on the left\r\n",
    "mag2s   = [mag2(shift+1:end), zeros(1,shift)];\r\n",
    "phase2s = [phase2(shift+1:end), zeros(1,shift) ];\r\n",
    "\r\n",
    "% recreate the frequency spectrum after the shift\r\n",
    "%           DC      +ve freq.   -ve freq.\r\n",
    "magS    = [mag(1)   , mag1s     , mag2s];\r\n",
    "phaseS  = [phase(1) , phase1s   , phase2s];\r\n",
    "\r\n",
    "\r\n",
    "x = magS.*cos(phaseS);                  % change from polar to rectangular\r\n",
    "y = magS.*sin(phaseS);\r\n",
    "ya_fft2 = x + i*y;                      % store signal as complex numbers\r\n",
    "ya_ifft2 = real(ifft(ya_fft2));         % take inverse fft\r\n",
    "\r\n",
    "plot(t,ya_ifft2);                       % time signal with increased frequency"
   ]
  },
  {
   "cell_type": "code",
   "execution_count": 74,
   "metadata": {},
   "outputs": [
    {
     "data": {
      "text/plain": "48000.0f0"
     },
     "execution_count": 74,
     "metadata": {},
     "output_type": "execute_result"
    }
   ],
   "source": [
    "bird = wavread(\"bird.wav\")[1][:,1]\r\n",
    "birdfs = wavread(\"bird.wav\")[2]"
   ]
  },
  {
   "cell_type": "code",
   "execution_count": 70,
   "metadata": {},
   "outputs": [
    {
     "data": {
      "text/plain": "freqchanger (generic function with 1 method)"
     },
     "execution_count": 70,
     "metadata": {},
     "output_type": "execute_result"
    }
   ],
   "source": [
    "function freqchanger(signal, shift)\r\n",
    "    fft_m = fft(signal)\r\n",
    "    mag = real(fft_m);\r\n",
    "    phase = unwrap(angle.(fft_m))\r\n",
    "    N = length(fft_m)\r\n",
    "    mag1 = mag[2:Int(N/2)+1]                \r\n",
    "    phase1 = phase[2:Int(N/2)+1] \r\n",
    "    mag2 = mag[Int(N/2)+2:end]\r\n",
    "    phase2 = phase[Int(N/2)+2:end] \r\n",
    "    mag1s   = [zeros(1,shift); mag1[1:end-shift]]\r\n",
    "    phase1s = [zeros(1,shift); phase1[1:end-shift]]\r\n",
    "    mag2s   = [mag2[shift+1:end]; zeros(1,shift)]\r\n",
    "    phase2s = [phase2[shift+1:end]; zeros(1,shift)]\r\n",
    "    magS    = [mag[1]; mag1s; mag2s]\r\n",
    "    phaseS  = [phase[1]; phase1s; phase2s]\r\n",
    "\r\n",
    "\r\n",
    "    \r\n",
    "    x = magS .* cos.(phaseS)#cos.(phaseS)\r\n",
    "    y = magS.*sin.(phaseS)\r\n",
    "    ya_fft2 = x + im*y\r\n",
    "    return ya_fft2\r\n",
    "end\r\n",
    "    \r\n",
    "    "
   ]
  },
  {
   "cell_type": "code",
   "execution_count": 78,
   "metadata": {},
   "outputs": [],
   "source": [
    "newbird = freqchanger(bird, 1);"
   ]
  },
  {
   "cell_type": "code",
   "execution_count": 79,
   "metadata": {},
   "outputs": [],
   "source": [
    "plot(FFTW.fftfreq(length(bird), birdfs), real(fft(bird)))"
   ]
  }
 ],
 "metadata": {
  "kernelspec": {
   "display_name": "Julia 1.5.3",
   "language": "julia",
   "name": "julia-1.5"
  },
  "language_info": {
   "file_extension": ".jl",
   "mimetype": "application/julia",
   "name": "julia",
   "version": "1.5.3"
  },
  "orig_nbformat": 2
 },
 "nbformat": 4,
 "nbformat_minor": 2
}